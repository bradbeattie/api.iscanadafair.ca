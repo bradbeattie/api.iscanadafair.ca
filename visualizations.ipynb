{
 "cells": [
  {
   "cell_type": "markdown",
   "metadata": {},
   "source": [
    "# Exploring the disproportionality of Canadian parties"
   ]
  },
  {
   "cell_type": "code",
   "execution_count": 1,
   "metadata": {
    "scrolled": false
   },
   "outputs": [
    {
     "data": {
      "text/html": [
       "\n",
       "        <script>\n",
       "            function toggle_cell(event) {\n",
       "                $(event ? event.target : \".toggler\")\n",
       "                    .parents(\".output_wrapper\")\n",
       "                    .prev()\n",
       "                    .toggle(event ? undefined : false)\n",
       "            }\n",
       "            $(document).ready(setTimeout(toggle_cell, 0))\n",
       "        </script>\n",
       "        <p><button class=\"toggler\" onClick=\"javascript:toggle_cell(event)\">Click to toggle the display the initializing scripts</button></p>\n",
       "    "
      ],
      "text/plain": [
       "<IPython.core.display.HTML object>"
      ]
     },
     "execution_count": 1,
     "metadata": {},
     "output_type": "execute_result"
    }
   ],
   "source": [
    "%matplotlib inline\n",
    "from matplotlib.projections.polar import PolarAxes\n",
    "from matplotlib.projections import register_projection\n",
    "from IPython.display import display\n",
    "from elections import models\n",
    "from collections import OrderedDict\n",
    "from django.db.models.base import ModelBase\n",
    "from IPython.display import HTML\n",
    "import pandas as pd\n",
    "import seaborn as sns\n",
    "import matplotlib.ticker as ticker\n",
    "import matplotlib.pyplot as plt\n",
    "import matplotlib.patches as patches\n",
    "import math\n",
    "import numpy as np\n",
    "import os\n",
    "\n",
    "def columns_reorder_left(dataframe, columns):\n",
    "    unmentioned = [column for column in dataframe.columns if column not in columns]\n",
    "    dataframe = dataframe[columns + unmentioned]\n",
    "    return dataframe\n",
    "\n",
    "def columns_reorder_after(dataframe, pairs):\n",
    "    columns = list(dataframe.columns)\n",
    "    for left, right in pairs.items():\n",
    "        columns.remove(right)\n",
    "        columns.insert(columns.index(left) + 1, right)\n",
    "    return dataframe[columns]\n",
    "\n",
    "def get_dataframe(qs, mapping, index=None):\n",
    "    mapping = OrderedDict(mapping)\n",
    "    qs = qs.objects.all() if isinstance(qs, ModelBase) else qs\n",
    "    dataframe = pd.DataFrame(list(qs.values(*mapping.keys())))\n",
    "    dataframe = columns_reorder_left(dataframe, list(mapping.keys()))\n",
    "    dataframe.rename(columns=mapping, inplace=True)\n",
    "    if index:\n",
    "        dataframe = dataframe.set_index(index)\n",
    "    dataframe = dataframe.sort_index()\n",
    "    return dataframe\n",
    "\n",
    "def select_by_index(dataframe, indexes):\n",
    "    indexer = [slice(None)] * len(dataframe.index.names)\n",
    "    for key, value in indexes.items():\n",
    "        indexer[dataframe.index.names.index(key)] = value\n",
    "    if len(indexer) > 1:\n",
    "        return dataframe.loc[tuple(indexer), :]\n",
    "    else:\n",
    "        return dataframe.loc[tuple(indexer)]\n",
    "\n",
    "def radar_factory(num_vars, frame='circle'):\n",
    "    \"\"\"Create a radar chart with `num_vars` axes.\"\"\"\n",
    "    # calculate evenly-spaced axis angles\n",
    "    theta = 2 * np.pi * np.linspace(0, 1 - 1. / num_vars, num_vars)\n",
    "    # rotate theta such that the first axis is at the top\n",
    "    theta += np.pi / 2\n",
    "\n",
    "    def draw_poly_frame(self, x0, y0, r):\n",
    "        # TODO: use transforms to convert (x, y) to (r, theta)\n",
    "        verts = [(r * np.cos(t) + x0, r * np.sin(t) + y0) for t in theta]\n",
    "        return plt.Polygon(verts, closed=True, edgecolor='k')\n",
    "\n",
    "    def draw_circle_frame(self, x0, y0, r):\n",
    "        return plt.Circle((x0, y0), r)\n",
    "\n",
    "    frame_dict = {'polygon': draw_poly_frame, 'circle': draw_circle_frame}\n",
    "    if frame not in frame_dict:\n",
    "        raise ValueError('unknown value for `frame`: %s' % frame)\n",
    "\n",
    "    class RadarAxes(PolarAxes):\n",
    "        \"\"\"Class for creating a radar chart (a.k.a. a spider or star chart)\n",
    "        http://en.wikipedia.org/wiki/Radar_chart\n",
    "        \"\"\"\n",
    "        name = 'radar'\n",
    "        # use 1 line segment to connect specified points\n",
    "        RESOLUTION = 1\n",
    "        # define draw_frame method\n",
    "        draw_frame = frame_dict[frame]\n",
    "\n",
    "        def fill(self, *args, **kwargs):\n",
    "            \"\"\"Override fill so that line is closed by default\"\"\"\n",
    "            closed = kwargs.pop('closed', True)\n",
    "            return super(RadarAxes, self).fill(closed=closed, *args, **kwargs)\n",
    "\n",
    "        def plot(self, *args, **kwargs):\n",
    "            \"\"\"Override plot so that line is closed by default\"\"\"\n",
    "            lines = super(RadarAxes, self).plot(*args, **kwargs)\n",
    "            for line in lines:\n",
    "                self._close_line(line)\n",
    "\n",
    "        def _close_line(self, line):\n",
    "            x, y = line.get_data()\n",
    "            # FIXME: markers at x[0], y[0] get doubled-up\n",
    "            if x[0] != x[-1]:\n",
    "                x = np.concatenate((x, [x[0]]))\n",
    "                y = np.concatenate((y, [y[0]]))\n",
    "                line.set_data(x, y)\n",
    "\n",
    "        def set_varlabels(self, labels):\n",
    "            self.set_thetagrids(theta * 180 / np.pi, labels)\n",
    "\n",
    "        def _gen_axes_patch(self):\n",
    "            x0, y0 = (0.5, 0.5)\n",
    "            r = 0.5\n",
    "            return self.draw_frame(x0, y0, r)\n",
    "\n",
    "    register_projection(RadarAxes)\n",
    "    return theta\n",
    "\n",
    "def display_toggler(button=\"Click to toggle\"):\n",
    "    return HTML(\"\"\"\n",
    "        <script>\n",
    "            function toggle_cell(event) {{\n",
    "                $(event ? event.target : \".toggler\")\n",
    "                    .parents(\".output_wrapper\")\n",
    "                    .prev()\n",
    "                    .toggle(event ? undefined : false)\n",
    "            }}\n",
    "            $(document).ready(setTimeout(toggle_cell, 0))\n",
    "        </script>\n",
    "        <p><button class=\"toggler\" onClick=\"javascript:toggle_cell(event)\">{}</button></p>\n",
    "    \"\"\".format(button))\n",
    "\n",
    "display_toggler(\"Click to toggle the display the initializing scripts\")"
   ]
  },
  {
   "cell_type": "code",
   "execution_count": 4,
   "metadata": {},
   "outputs": [
    {
     "ename": "FieldError",
     "evalue": "Cannot resolve keyword 'name' into field. Choices are: color, election_candidates, governed_parliaments, house_vote_participants, links, lop_item_code, names, related, slug",
     "output_type": "error",
     "traceback": [
      "\u001b[0;31m---------------------------------------------------------------------------\u001b[0m",
      "\u001b[0;31mFieldError\u001b[0m                                Traceback (most recent call last)",
      "\u001b[0;32m<ipython-input-4-914d23503088>\u001b[0m in \u001b[0;36m<module>\u001b[0;34m()\u001b[0m\n\u001b[1;32m      7\u001b[0m     \u001b[0;34m\"parliament__seats\"\u001b[0m\u001b[0;34m:\u001b[0m \u001b[0;34m\"Seats\"\u001b[0m\u001b[0;34m,\u001b[0m\u001b[0;34m\u001b[0m\u001b[0m\n\u001b[1;32m      8\u001b[0m     \u001b[0;34m\"parliament__government_party__name\"\u001b[0m\u001b[0;34m:\u001b[0m \u001b[0;34m\"Party\"\u001b[0m\u001b[0;34m,\u001b[0m\u001b[0;34m\u001b[0m\u001b[0m\n\u001b[0;32m----> 9\u001b[0;31m }, [\"Election\"])\n\u001b[0m\u001b[1;32m     10\u001b[0m \u001b[0melections\u001b[0m\u001b[0;34m[\u001b[0m\u001b[0;34m'Date'\u001b[0m\u001b[0;34m]\u001b[0m \u001b[0;34m=\u001b[0m \u001b[0mpd\u001b[0m\u001b[0;34m.\u001b[0m\u001b[0mto_datetime\u001b[0m\u001b[0;34m(\u001b[0m\u001b[0melections\u001b[0m\u001b[0;34m[\u001b[0m\u001b[0;34m'Date'\u001b[0m\u001b[0;34m]\u001b[0m\u001b[0;34m)\u001b[0m  \u001b[0;31m# TODO: Why isn't this happening automatically?\u001b[0m\u001b[0;34m\u001b[0m\u001b[0m\n\u001b[1;32m     11\u001b[0m ridings = get_dataframe(models.ElectionRiding.objects.filter(general_election__isnull=False), {\n",
      "\u001b[0;32m<ipython-input-1-34d2b942b349>\u001b[0m in \u001b[0;36mget_dataframe\u001b[0;34m(qs, mapping, index)\u001b[0m\n\u001b[1;32m     31\u001b[0m     \u001b[0mmapping\u001b[0m \u001b[0;34m=\u001b[0m \u001b[0mOrderedDict\u001b[0m\u001b[0;34m(\u001b[0m\u001b[0mmapping\u001b[0m\u001b[0;34m)\u001b[0m\u001b[0;34m\u001b[0m\u001b[0m\n\u001b[1;32m     32\u001b[0m     \u001b[0mqs\u001b[0m \u001b[0;34m=\u001b[0m \u001b[0mqs\u001b[0m\u001b[0;34m.\u001b[0m\u001b[0mobjects\u001b[0m\u001b[0;34m.\u001b[0m\u001b[0mall\u001b[0m\u001b[0;34m(\u001b[0m\u001b[0;34m)\u001b[0m \u001b[0;32mif\u001b[0m \u001b[0misinstance\u001b[0m\u001b[0;34m(\u001b[0m\u001b[0mqs\u001b[0m\u001b[0;34m,\u001b[0m \u001b[0mModelBase\u001b[0m\u001b[0;34m)\u001b[0m \u001b[0;32melse\u001b[0m \u001b[0mqs\u001b[0m\u001b[0;34m\u001b[0m\u001b[0m\n\u001b[0;32m---> 33\u001b[0;31m     \u001b[0mdataframe\u001b[0m \u001b[0;34m=\u001b[0m \u001b[0mpd\u001b[0m\u001b[0;34m.\u001b[0m\u001b[0mDataFrame\u001b[0m\u001b[0;34m(\u001b[0m\u001b[0mlist\u001b[0m\u001b[0;34m(\u001b[0m\u001b[0mqs\u001b[0m\u001b[0;34m.\u001b[0m\u001b[0mvalues\u001b[0m\u001b[0;34m(\u001b[0m\u001b[0;34m*\u001b[0m\u001b[0mmapping\u001b[0m\u001b[0;34m.\u001b[0m\u001b[0mkeys\u001b[0m\u001b[0;34m(\u001b[0m\u001b[0;34m)\u001b[0m\u001b[0;34m)\u001b[0m\u001b[0;34m)\u001b[0m\u001b[0;34m)\u001b[0m\u001b[0;34m\u001b[0m\u001b[0m\n\u001b[0m\u001b[1;32m     34\u001b[0m     \u001b[0mdataframe\u001b[0m \u001b[0;34m=\u001b[0m \u001b[0mcolumns_reorder_left\u001b[0m\u001b[0;34m(\u001b[0m\u001b[0mdataframe\u001b[0m\u001b[0;34m,\u001b[0m \u001b[0mlist\u001b[0m\u001b[0;34m(\u001b[0m\u001b[0mmapping\u001b[0m\u001b[0;34m.\u001b[0m\u001b[0mkeys\u001b[0m\u001b[0;34m(\u001b[0m\u001b[0;34m)\u001b[0m\u001b[0;34m)\u001b[0m\u001b[0;34m)\u001b[0m\u001b[0;34m\u001b[0m\u001b[0m\n\u001b[1;32m     35\u001b[0m     \u001b[0mdataframe\u001b[0m\u001b[0;34m.\u001b[0m\u001b[0mrename\u001b[0m\u001b[0;34m(\u001b[0m\u001b[0mcolumns\u001b[0m\u001b[0;34m=\u001b[0m\u001b[0mmapping\u001b[0m\u001b[0;34m,\u001b[0m \u001b[0minplace\u001b[0m\u001b[0;34m=\u001b[0m\u001b[0;32mTrue\u001b[0m\u001b[0;34m)\u001b[0m\u001b[0;34m\u001b[0m\u001b[0m\n",
      "\u001b[0;32m/home/bradbeattie/Desktop/Politics/canadian-parlimentarty-data/.env-3.6.1/lib/python3.6/site-packages/django/db/models/query.py\u001b[0m in \u001b[0;36mvalues\u001b[0;34m(self, *fields, **expressions)\u001b[0m\n\u001b[1;32m    693\u001b[0m     \u001b[0;32mdef\u001b[0m \u001b[0mvalues\u001b[0m\u001b[0;34m(\u001b[0m\u001b[0mself\u001b[0m\u001b[0;34m,\u001b[0m \u001b[0;34m*\u001b[0m\u001b[0mfields\u001b[0m\u001b[0;34m,\u001b[0m \u001b[0;34m**\u001b[0m\u001b[0mexpressions\u001b[0m\u001b[0;34m)\u001b[0m\u001b[0;34m:\u001b[0m\u001b[0;34m\u001b[0m\u001b[0m\n\u001b[1;32m    694\u001b[0m         \u001b[0mfields\u001b[0m \u001b[0;34m+=\u001b[0m \u001b[0mtuple\u001b[0m\u001b[0;34m(\u001b[0m\u001b[0mexpressions\u001b[0m\u001b[0;34m)\u001b[0m\u001b[0;34m\u001b[0m\u001b[0m\n\u001b[0;32m--> 695\u001b[0;31m         \u001b[0mclone\u001b[0m \u001b[0;34m=\u001b[0m \u001b[0mself\u001b[0m\u001b[0;34m.\u001b[0m\u001b[0m_values\u001b[0m\u001b[0;34m(\u001b[0m\u001b[0;34m*\u001b[0m\u001b[0mfields\u001b[0m\u001b[0;34m,\u001b[0m \u001b[0;34m**\u001b[0m\u001b[0mexpressions\u001b[0m\u001b[0;34m)\u001b[0m\u001b[0;34m\u001b[0m\u001b[0m\n\u001b[0m\u001b[1;32m    696\u001b[0m         \u001b[0mclone\u001b[0m\u001b[0;34m.\u001b[0m\u001b[0m_iterable_class\u001b[0m \u001b[0;34m=\u001b[0m \u001b[0mValuesIterable\u001b[0m\u001b[0;34m\u001b[0m\u001b[0m\n\u001b[1;32m    697\u001b[0m         \u001b[0;32mreturn\u001b[0m \u001b[0mclone\u001b[0m\u001b[0;34m\u001b[0m\u001b[0m\n",
      "\u001b[0;32m/home/bradbeattie/Desktop/Politics/canadian-parlimentarty-data/.env-3.6.1/lib/python3.6/site-packages/django/db/models/query.py\u001b[0m in \u001b[0;36m_values\u001b[0;34m(self, *fields, **expressions)\u001b[0m\n\u001b[1;32m    688\u001b[0m             \u001b[0mclone\u001b[0m \u001b[0;34m=\u001b[0m \u001b[0mclone\u001b[0m\u001b[0;34m.\u001b[0m\u001b[0mannotate\u001b[0m\u001b[0;34m(\u001b[0m\u001b[0;34m**\u001b[0m\u001b[0mexpressions\u001b[0m\u001b[0;34m)\u001b[0m\u001b[0;34m\u001b[0m\u001b[0m\n\u001b[1;32m    689\u001b[0m         \u001b[0mclone\u001b[0m\u001b[0;34m.\u001b[0m\u001b[0m_fields\u001b[0m \u001b[0;34m=\u001b[0m \u001b[0mfields\u001b[0m\u001b[0;34m\u001b[0m\u001b[0m\n\u001b[0;32m--> 690\u001b[0;31m         \u001b[0mclone\u001b[0m\u001b[0;34m.\u001b[0m\u001b[0mquery\u001b[0m\u001b[0;34m.\u001b[0m\u001b[0mset_values\u001b[0m\u001b[0;34m(\u001b[0m\u001b[0mfields\u001b[0m\u001b[0;34m)\u001b[0m\u001b[0;34m\u001b[0m\u001b[0m\n\u001b[0m\u001b[1;32m    691\u001b[0m         \u001b[0;32mreturn\u001b[0m \u001b[0mclone\u001b[0m\u001b[0;34m\u001b[0m\u001b[0m\n\u001b[1;32m    692\u001b[0m \u001b[0;34m\u001b[0m\u001b[0m\n",
      "\u001b[0;32m/home/bradbeattie/Desktop/Politics/canadian-parlimentarty-data/.env-3.6.1/lib/python3.6/site-packages/django/db/models/sql/query.py\u001b[0m in \u001b[0;36mset_values\u001b[0;34m(self, fields)\u001b[0m\n\u001b[1;32m   1905\u001b[0m \u001b[0;34m\u001b[0m\u001b[0m\n\u001b[1;32m   1906\u001b[0m         \u001b[0mself\u001b[0m\u001b[0;34m.\u001b[0m\u001b[0mvalues_select\u001b[0m \u001b[0;34m=\u001b[0m \u001b[0mfield_names\u001b[0m\u001b[0;34m\u001b[0m\u001b[0m\n\u001b[0;32m-> 1907\u001b[0;31m         \u001b[0mself\u001b[0m\u001b[0;34m.\u001b[0m\u001b[0madd_fields\u001b[0m\u001b[0;34m(\u001b[0m\u001b[0mfield_names\u001b[0m\u001b[0;34m,\u001b[0m \u001b[0;32mTrue\u001b[0m\u001b[0;34m)\u001b[0m\u001b[0;34m\u001b[0m\u001b[0m\n\u001b[0m\u001b[1;32m   1908\u001b[0m \u001b[0;34m\u001b[0m\u001b[0m\n\u001b[1;32m   1909\u001b[0m     \u001b[0;34m@\u001b[0m\u001b[0mproperty\u001b[0m\u001b[0;34m\u001b[0m\u001b[0m\n",
      "\u001b[0;32m/home/bradbeattie/Desktop/Politics/canadian-parlimentarty-data/.env-3.6.1/lib/python3.6/site-packages/django/db/models/sql/query.py\u001b[0m in \u001b[0;36madd_fields\u001b[0;34m(self, field_names, allow_m2m)\u001b[0m\n\u001b[1;32m   1654\u001b[0m                 \u001b[0;31m# if there is no existing joins, use outer join.\u001b[0m\u001b[0;34m\u001b[0m\u001b[0;34m\u001b[0m\u001b[0m\n\u001b[1;32m   1655\u001b[0m                 _, targets, _, joins, path = self.setup_joins(\n\u001b[0;32m-> 1656\u001b[0;31m                     name.split(LOOKUP_SEP), opts, alias, allow_many=allow_m2m)\n\u001b[0m\u001b[1;32m   1657\u001b[0m                 \u001b[0mtargets\u001b[0m\u001b[0;34m,\u001b[0m \u001b[0mfinal_alias\u001b[0m\u001b[0;34m,\u001b[0m \u001b[0mjoins\u001b[0m \u001b[0;34m=\u001b[0m \u001b[0mself\u001b[0m\u001b[0;34m.\u001b[0m\u001b[0mtrim_joins\u001b[0m\u001b[0;34m(\u001b[0m\u001b[0mtargets\u001b[0m\u001b[0;34m,\u001b[0m \u001b[0mjoins\u001b[0m\u001b[0;34m,\u001b[0m \u001b[0mpath\u001b[0m\u001b[0;34m)\u001b[0m\u001b[0;34m\u001b[0m\u001b[0m\n\u001b[1;32m   1658\u001b[0m                 \u001b[0;32mfor\u001b[0m \u001b[0mtarget\u001b[0m \u001b[0;32min\u001b[0m \u001b[0mtargets\u001b[0m\u001b[0;34m:\u001b[0m\u001b[0;34m\u001b[0m\u001b[0m\n",
      "\u001b[0;32m/home/bradbeattie/Desktop/Politics/canadian-parlimentarty-data/.env-3.6.1/lib/python3.6/site-packages/django/db/models/sql/query.py\u001b[0m in \u001b[0;36msetup_joins\u001b[0;34m(self, names, opts, alias, can_reuse, allow_many)\u001b[0m\n\u001b[1;32m   1426\u001b[0m         \u001b[0;31m# First, generate the path for the names\u001b[0m\u001b[0;34m\u001b[0m\u001b[0;34m\u001b[0m\u001b[0m\n\u001b[1;32m   1427\u001b[0m         path, final_field, targets, rest = self.names_to_path(\n\u001b[0;32m-> 1428\u001b[0;31m             names, opts, allow_many, fail_on_missing=True)\n\u001b[0m\u001b[1;32m   1429\u001b[0m \u001b[0;34m\u001b[0m\u001b[0m\n\u001b[1;32m   1430\u001b[0m         \u001b[0;31m# Then, add the path to the query's joins. Note that we can't trim\u001b[0m\u001b[0;34m\u001b[0m\u001b[0;34m\u001b[0m\u001b[0m\n",
      "\u001b[0;32m/home/bradbeattie/Desktop/Politics/canadian-parlimentarty-data/.env-3.6.1/lib/python3.6/site-packages/django/db/models/sql/query.py\u001b[0m in \u001b[0;36mnames_to_path\u001b[0;34m(self, names, opts, allow_many, fail_on_missing)\u001b[0m\n\u001b[1;32m   1361\u001b[0m                     \u001b[0mavailable\u001b[0m \u001b[0;34m=\u001b[0m \u001b[0msorted\u001b[0m\u001b[0;34m(\u001b[0m\u001b[0mfield_names\u001b[0m \u001b[0;34m+\u001b[0m \u001b[0mlist\u001b[0m\u001b[0;34m(\u001b[0m\u001b[0mself\u001b[0m\u001b[0;34m.\u001b[0m\u001b[0mannotation_select\u001b[0m\u001b[0;34m)\u001b[0m\u001b[0;34m)\u001b[0m\u001b[0;34m\u001b[0m\u001b[0m\n\u001b[1;32m   1362\u001b[0m                     raise FieldError(\"Cannot resolve keyword '%s' into field. \"\n\u001b[0;32m-> 1363\u001b[0;31m                                      \"Choices are: %s\" % (name, \", \".join(available)))\n\u001b[0m\u001b[1;32m   1364\u001b[0m                 \u001b[0;32mbreak\u001b[0m\u001b[0;34m\u001b[0m\u001b[0m\n\u001b[1;32m   1365\u001b[0m             \u001b[0;31m# Check if we need any joins for concrete inheritance cases (the\u001b[0m\u001b[0;34m\u001b[0m\u001b[0;34m\u001b[0m\u001b[0m\n",
      "\u001b[0;31mFieldError\u001b[0m: Cannot resolve keyword 'name' into field. Choices are: color, election_candidates, governed_parliaments, house_vote_participants, links, lop_item_code, names, related, slug"
     ]
    }
   ],
   "source": [
    "elections = get_dataframe(models.GeneralElection, {\n",
    "    \"number\": \"Election\",\n",
    "    \"date\": \"Date\",\n",
    "    \"population\": \"Population\",\n",
    "    \"registered\": \"Registered\",\n",
    "    \"ballots_total\": \"Ballots (Total)\",\n",
    "    \"parliament__seats\": \"Seats\",\n",
    "    \"parliament__government_party__name\": \"Party\",\n",
    "}, [\"Election\"])\n",
    "elections['Date'] = pd.to_datetime(elections['Date'])  # TODO: Why isn't this happening automatically?\n",
    "ridings = get_dataframe(models.ElectionRiding.objects.filter(general_election__isnull=False), {\n",
    "    \"general_election__number\": \"Election\",\n",
    "    \"general_election__date\": \"Election: Date\",\n",
    "    \"riding__province__name\": \"Province\",\n",
    "    \"riding__name\": \"Riding\",\n",
    "    \"population\": \"Population\",\n",
    "    \"registered\": \"Registered\",\n",
    "    \"ballots_rejected\": \"Ballots (Rejected)\"\n",
    "}, [\"Election\", \"Province\", \"Riding\"])\n",
    "ridings['Election: Date'] = pd.to_datetime(ridings['Election: Date'])\n",
    "candidates = get_dataframe(models.ElectionCandidate.objects.filter(election_riding__general_election__isnull=False), {\n",
    "    \"election_riding__general_election__number\": \"Election\",\n",
    "    \"election_riding__general_election__date_end\": \"Election: Date\",\n",
    "    \"election_riding__riding__province__name\": \"Province\",\n",
    "    \"election_riding__riding__name\": \"Riding\",\n",
    "    \"name\": \"Candidate\",\n",
    "    \"party__name\": \"Party\",\n",
    "    \"party__color\": \"Party: Color\",\n",
    "    \"election_riding__population\": \"Riding: Population\",\n",
    "    \"election_riding__registered\": \"Riding: Registered\",\n",
    "    \"ballots\": \"Ballots\",\n",
    "    \"elected\": \"Elected\",\n",
    "    \"acclaimed\": \"Acclaimed\",\n",
    "}, [\"Election\", \"Province\", \"Riding\", \"Candidate\"])\n",
    "candidates['Election: Date'] = pd.to_datetime(candidates['Election: Date'])\n",
    "sitting_vote_participants = get_dataframe(models.SittingVoteParticipant.objects.all(), {\n",
    "    \"sitting_vote__sitting__session__parliament__number\": \"Parliament\",\n",
    "    \"sitting_vote__sitting__session__number\": \"Session\",\n",
    "    \"sitting_vote__sitting__number\": \"Sitting\",\n",
    "    \"sitting_vote__number\": \"Vote\",\n",
    "    \"party__name\": \"Party\",\n",
    "    \"parliamentarian__name\": \"Parliamentarian\",\n",
    "    \"recorded_vote\": \"Parliamentarian: Vote\",\n",
    "}, [\"Parliament\", \"Session\", \"Sitting\", \"Vote\", \"Party\", \"Parliamentarian\"])\n",
    "sitting_vote_participants = sitting_vote_participants.reset_index().fillna(\"Independent\").set_index(sitting_vote_participants.index.names)\n",
    "\n",
    "# Some ridings historically had two seats (Halifax, Victoria, etc). For the purposes of\n",
    "# calculating voter turnout, we need to define a fractional ballot where a voter's single\n",
    "# ballot is split in half between two candidates.\n",
    "ridings = ridings.join(candidates[candidates[\"Elected\"] | candidates[\"Acclaimed\"]].reset_index().groupby(ridings.index.names)[\"Candidate\"].count().to_frame())\n",
    "ridings = ridings.rename(columns={\"Candidate\": \"Seats\"})\n",
    "candidates = candidates.reset_index().set_index(ridings.index.names).join(ridings[\"Seats\"]).reset_index().set_index(candidates.index.names)\n",
    "candidates[\"Ballots (Fractional)\"] = candidates[\"Ballots\"] / candidates[\"Seats\"]\n",
    "del candidates[\"Seats\"]\n",
    "\n",
    "parties = candidates.reset_index().groupby([\"Election\", \"Party\"]).agg({\n",
    "    \"Election: Date\": \"first\",\n",
    "    'Candidate': 'count',\n",
    "    'Ballots (Fractional)': 'sum',\n",
    "    'Elected': 'sum',\n",
    "    'Acclaimed': 'sum',\n",
    "    'Party: Color': 'first',\n",
    "}).rename(columns={\n",
    "    'Candidate': 'Candidates',\n",
    "    'Ballots (Fractional)': 'Ballots',\n",
    "    \"Party: Color\": \"Color\",\n",
    "})\n",
    "parties[\"Seats\"] = parties[\"Elected\"] + parties[\"Acclaimed\"]\n",
    "del parties[\"Elected\"]\n",
    "del parties[\"Acclaimed\"]\n",
    "\n",
    "# Augment elections with winning party data\n",
    "elections = elections.reset_index().set_index(parties.index.names).join(parties, rsuffix=\" (Party)\").reset_index().set_index(elections.index.names).rename(columns={\n",
    "    'Candidates': 'Party: Candidates',\n",
    "    'Ballots': 'Party: Ballots',\n",
    "    'Color': 'Party: Color',\n",
    "    'Seats (Party)': \"Party: Seats\",\n",
    "})\n",
    "del elections[\"Election: Date\"]\n",
    "elections = columns_reorder_after(elections, {\n",
    "    \"Seats\": \"Party\",\n",
    "})\n",
    "\n",
    "# Copy valid ballots per candidate up to the ridings level\n",
    "ridings = ridings.join(candidates.reset_index().groupby(ridings.index.names)[\"Ballots (Fractional)\"].sum().to_frame())\n",
    "ridings = ridings.rename(columns={\"Ballots (Fractional)\": \"Ballots (Valid)\"})\n",
    "ridings = columns_reorder_after(ridings, {\"Ballots (Valid)\": \"Ballots (Rejected)\"})\n",
    "\n",
    "# Copy winning candidate up to the ridings level\n",
    "ridings_winning_parties = candidates[candidates[\"Elected\"] == True].reset_index().set_index(ridings.index.names)\n",
    "ridings = ridings.join(ridings_winning_parties[[\"Candidate\", \"Party\", \"Party: Color\", \"Ballots\"]])\n",
    "ridings = ridings.rename(columns={\n",
    "    \"Candidate\": \"Elected: Name\",\n",
    "    \"Ballots\": \"Elected: Ballots\",\n",
    "    \"Party\": \"Elected: Party\",\n",
    "    \"Color\": \"Elected: Color\",\n",
    "})\n",
    "\n",
    "# Copy valid ballots per riding back down to the ridings level\n",
    "candidates = candidates.reset_index().set_index(ridings.index.names).join(\n",
    "    ridings.reset_index().groupby(ridings.index.names).agg({\"Ballots (Valid)\": \"first\"})\n",
    ").reset_index().set_index(candidates.index.names)\n",
    "candidates = columns_reorder_after(candidates, {\"Riding: Registered\": \"Ballots (Valid)\"})\n",
    "candidates = candidates.rename(columns={\n",
    "    \"Ballots (Valid)\": \"Riding: Ballots (Valid)\",\n",
    "})\n",
    "\n",
    "# Copy valid ballots per riding up to the elections level\n",
    "elections_ballot_sums = ridings.reset_index().groupby(ridings.index.names).agg({\"Ballots (Valid)\": \"first\"}).reset_index().groupby([\"Election\"])[\"Ballots (Valid)\"].sum().to_frame()\n",
    "elections = elections.join(elections_ballot_sums)\n",
    "elections = columns_reorder_after(elections, {\"Ballots (Total)\": \"Ballots (Valid)\"})\n",
    "\n",
    "# Augment parties with election level data\n",
    "elections[\"Party: Ballot %\"] = elections[\"Party: Ballots\"] / elections[\"Ballots (Valid)\"]\n",
    "elections[\"Party: Seat %\"] = elections[\"Party: Seats\"] / elections[\"Seats\"]\n",
    "parties[\"Seat %\"] = parties[\"Seats\"] / elections[\"Seats\"]\n",
    "parties[\"Vote %\"] = parties[\"Ballots\"] / elections[\"Ballots (Valid)\"]\n",
    "parties[\"Seat % - Vote %\"] = parties[\"Seat %\"] - parties[\"Vote %\"]\n",
    "parties[\"Seat % / Vote %\"] = parties[\"Seat %\"] / parties[\"Vote %\"]\n",
    "candidates[\"Ballot %\"] = candidates[\"Ballots\"] / candidates[\"Riding: Ballots (Valid)\"]\n",
    "\n",
    "#display_toggler(\"Click to toggle the display the data initialization\")"
   ]
  },
  {
   "cell_type": "markdown",
   "metadata": {},
   "source": [
    "## Raw data\n",
    "\n",
    "Note that there are some hiccups in the raw data one might not expect.\n",
    "\n",
    "* Until the 28th general election of 1968, ridings were sometimes represented by two MPs (e.g. Halifax). These were later split into multiple ridings.\n",
    "* Until the 24th general election of 1958, some candidates won by acclaimation, not by election (e.g. Lionel Bertrand). That is to say, they ran unopposed and therefore had no ballots cast in their favour.\n",
    "\n",
    "These peculiarities should be kept in mind when generating aggregate statistics. For simplicity, let's define \"_28plus\" suffixed dataframes."
   ]
  },
  {
   "cell_type": "code",
   "execution_count": null,
   "metadata": {},
   "outputs": [],
   "source": [
    "elections[\"Registered / Population\"] = elections[\"Registered\"] / elections[\"Population\"]\n",
    "elections[\"Ballots / Population\"] = elections[\"Ballots (Valid)\"] / elections[\"Population\"]\n",
    "elections[\"Ballots / Registered\"] = elections[\"Ballots (Valid)\"] / elections[\"Registered\"]\n",
    "\n",
    "elections_28plus = select_by_index(elections, {\"Election\": slice(28, None)})\n",
    "candidates_28plus = select_by_index(candidates, {\"Election\": slice(28, None)})\n",
    "parties_28plus = select_by_index(parties, {\"Election\": slice(28, None)})\n",
    "ridings_28plus = select_by_index(ridings, {\"Election\": slice(28, None)})\n",
    "del candidates_28plus[\"Acclaimed\"]\n",
    "del candidates_28plus[\"Ballots (Fractional)\"]\n",
    "del ridings_28plus[\"Seats\"]"
   ]
  },
  {
   "cell_type": "markdown",
   "metadata": {},
   "source": [
    "### Elections"
   ]
  },
  {
   "cell_type": "code",
   "execution_count": null,
   "metadata": {
    "scrolled": false
   },
   "outputs": [],
   "source": [
    "display(elections.tail(5))"
   ]
  },
  {
   "cell_type": "markdown",
   "metadata": {},
   "source": [
    "### Ridings"
   ]
  },
  {
   "cell_type": "code",
   "execution_count": null,
   "metadata": {
    "scrolled": false
   },
   "outputs": [],
   "source": [
    "display(select_by_index(ridings, {\"Riding\": [\"HALIFAX\"], \"Election\": [*range(40, 42 + 1)]}))"
   ]
  },
  {
   "cell_type": "markdown",
   "metadata": {},
   "source": [
    "### Candidates"
   ]
  },
  {
   "cell_type": "code",
   "execution_count": null,
   "metadata": {
    "scrolled": false
   },
   "outputs": [],
   "source": [
    "display(select_by_index(candidates[candidates[\"Ballot %\"] > .01], {\n",
    "    \"Election\": [42],\n",
    "    \"Riding\": [\"VANCOUVER QUADRA\"],\n",
    "}))"
   ]
  },
  {
   "cell_type": "markdown",
   "metadata": {},
   "source": [
    "### Parties"
   ]
  },
  {
   "cell_type": "code",
   "execution_count": null,
   "metadata": {
    "scrolled": false
   },
   "outputs": [],
   "source": [
    "display(select_by_index(\n",
    "    parties[parties[\"Seats\"] > 0],\n",
    "    {\"Election\": [42]},\n",
    "))"
   ]
  },
  {
   "cell_type": "markdown",
   "metadata": {},
   "source": [
    "### Other data types\n",
    "\n",
    "A fair amount of further data is stored in this dataset. Photos for MPs, links to Wikipedia pages, bill titles, etc. If there's more data you'd like to see, send me an email at bradbeattie@gmail.com."
   ]
  },
  {
   "cell_type": "code",
   "execution_count": null,
   "metadata": {},
   "outputs": [],
   "source": [
    "print(\", \".join(sorted(\n",
    "    str(getattr(models, model_name)._meta.verbose_name_plural.title())\n",
    "    for model_name in dir(models)\n",
    "    if isinstance(getattr(models, model_name), ModelBase)\n",
    ")))"
   ]
  },
  {
   "cell_type": "markdown",
   "metadata": {},
   "source": [
    "## Is there a clear relation between popular vote and disproportionality?"
   ]
  },
  {
   "cell_type": "code",
   "execution_count": null,
   "metadata": {
    "scrolled": false
   },
   "outputs": [],
   "source": [
    "df = parties\n",
    "df = df.reset_index()\n",
    "df = df[(df[\"Party\"] != \"Independent\")]\n",
    "g = sns.regplot(x=\"Vote %\", y=\"Seat % - Vote %\", data=df, order=3)\n",
    "g.add_patch(patches.Rectangle((-1, -1), 2, 1, alpha=0.05, facecolor=\"black\"))\n",
    "g.set_xticklabels(['{:3.0f}%'.format(x * 100) for x in g.get_xticks()])\n",
    "g.set_yticklabels(['{:3.0f}%'.format(y * 100) for y in g.get_yticks()]);"
   ]
  },
  {
   "cell_type": "markdown",
   "metadata": {},
   "source": [
    "## How has the registered voting population and voter turnout changed over time?"
   ]
  },
  {
   "cell_type": "code",
   "execution_count": null,
   "metadata": {
    "scrolled": false
   },
   "outputs": [],
   "source": [
    "df = elections\n",
    "plot = df.plot(x=\"Date\", y=[\n",
    "    \"Registered / Population\",\n",
    "    \"Ballots / Population\",\n",
    "    \"Ballots / Registered\",\n",
    "], drawstyle=\"steps-post\")\n",
    "plot.set(ylim=(0, 1));\n",
    "plot.set_yticklabels(['{:3.0f}%'.format(y * 100) for y in plot.get_yticks()]);"
   ]
  },
  {
   "cell_type": "markdown",
   "metadata": {},
   "source": [
    "## Which parties have held power and which majorities have been false?"
   ]
  },
  {
   "cell_type": "code",
   "execution_count": null,
   "metadata": {
    "scrolled": false
   },
   "outputs": [],
   "source": [
    "df = elections\n",
    "df[\"Kind\"] = np.where(df[\"Party: Seat %\"] < 0.5, \"minority\", np.where(df[\"Party: Ballot %\"] < 0.5, \"false majority\", \"majority\"))\n",
    "kind_colors = { \"minority\": \"purple\", \"majority\": \"purple\", \"false majority\": \"magenta\"}\n",
    "df[\"Party: Seat % - Ballot %\"] = df[\"Party: Seat %\"] - df[\"Party: Ballot %\"]\n",
    "plot = df.plot(\n",
    "    x=df[\"Date\"].dt.year,\n",
    "    y=['Party: Ballot %', 'Party: Seat % - Ballot %'],\n",
    "    kind='bar',\n",
    "    legend=False,\n",
    "    stacked=True,\n",
    "    color=[\n",
    "        list(df[\"Party: Color\"]),\n",
    "        [kind_colors.get(kind) for kind in df[\"Kind\"]]\n",
    "    ],\n",
    ")\n",
    "\n",
    "plot.set_yticklabels(['{:3.0f}%'.format(y * 100) for y in plot.get_yticks()]);\n",
    "plot.add_patch(patches.Rectangle((-1, -1), len(df) + 1, 1.5, alpha=0.1, facecolor=\"black\"))"
   ]
  },
  {
   "cell_type": "markdown",
   "metadata": {},
   "source": [
    "## Do ridings with more registered voters prefer certain parties?"
   ]
  },
  {
   "cell_type": "code",
   "execution_count": null,
   "metadata": {},
   "outputs": [],
   "source": [
    "df = select_by_index(candidates, {\"Election\": 42})\n",
    "df = df[df[\"Elected\"]]\n",
    "df[\"Riding: Registered Ratio\"] = df[\"Riding: Registered\"] / df[\"Riding: Population\"]\n",
    "plot = df.plot(kind=\"scatter\", x=\"Riding: Registered Ratio\", y=\"Ballots\", c=df[\"Party: Color\"]);"
   ]
  },
  {
   "cell_type": "markdown",
   "metadata": {},
   "source": [
    "## How much overlap is there in winning ballot percentages per party?"
   ]
  },
  {
   "cell_type": "code",
   "execution_count": null,
   "metadata": {
    "scrolled": false
   },
   "outputs": [],
   "source": [
    "from_year = 2000\n",
    "df = select_by_index(candidates, {\"Election\": [*range(38, 42 + 1)]})\n",
    "dfilters = (\n",
    "    (\"Lib\", df[\"Party\"] == \"Lib\"),\n",
    "    (\"Cons\", df[\"Party\"].isin((\"P.C.\", \"CA\", \"Ref.\", \"C\"))),\n",
    "    (\"NDP\", df[\"Party\"] == \"N.D.P.\"),\n",
    "    (\"Green\", df[\"Party\"] == \"G.P.\"),\n",
    "    (\"BQ\", df[\"Party\"] == \"B.Q.\"),\n",
    ")\n",
    "for name, dfilter in dfilters:\n",
    "    df2 = df[dfilter]\n",
    "    sns.set_palette(sns.color_palette([\"grey\", df2[df2[\"Elected\"] == True][\"Party: Color\"].iloc[-1]]))\n",
    "    g = sns.lmplot(\n",
    "        x=\"Ballot %\",\n",
    "        y=\"Riding: Ballots (Valid)\",\n",
    "        hue=\"Elected\",\n",
    "        col=\"Election: Date\",\n",
    "        data=df2,\n",
    "        fit_reg=False,\n",
    "    )\n",
    "    g.set(ylim=(0, None))\n",
    "    g.set(xlim=(0.0, 1.0))\n",
    "    for ax in g.axes.flatten():\n",
    "        ax.set_xticklabels(ax.get_xticklabels(), fontsize=6)\n",
    "        ax.xaxis.set_major_formatter(ticker.FuncFormatter(lambda x, p: '{:3.0f}%'.format(x * 100)))\n",
    "    plt.subplots_adjust(top=0.9)\n",
    "    g.fig.suptitle(name)\n",
    "    plt.show()"
   ]
  },
  {
   "cell_type": "markdown",
   "metadata": {},
   "source": [
    "## Which parliamentarians stray from or adhere to party lines the most?"
   ]
  },
  {
   "cell_type": "code",
   "execution_count": null,
   "metadata": {
    "scrolled": false
   },
   "outputs": [],
   "source": [
    "# Determine how parties vote as a whole\n",
    "votes_per_party_per_record = sitting_vote_participants.reset_index().groupby(\n",
    "    [\"Parliament\", \"Session\", \"Sitting\", \"Vote\", \"Party\", \"Parliamentarian: Vote\"],\n",
    ")[\"Parliamentarian: Vote\"].count().to_frame().rename(columns={\"Parliamentarian: Vote\": \"Count\"})\n",
    "votes_per_party = votes_per_party_per_record.reset_index().groupby(\n",
    "    [\"Parliament\", \"Session\", \"Sitting\", \"Vote\", \"Party\"],\n",
    ")[\"Count\"].sum().to_frame()\n",
    "votes_per_party_per_record = votes_per_party_per_record.reset_index().set_index(\n",
    "    votes_per_party.index.names\n",
    ").join(votes_per_party[\"Count\"], rsuffix=\" (Total)\").reset_index().set_index(\n",
    "    votes_per_party_per_record.index.names\n",
    ")\n",
    "votes_per_party_per_record[\"Party: Majority Vote\"] = round(votes_per_party_per_record[\"Count\"] / votes_per_party_per_record[\"Count (Total)\"])\n",
    "\n",
    "# Calculate how similar a parliamentarian is to their party\n",
    "party_adherence = sitting_vote_participants.reset_index().set_index(\n",
    "    votes_per_party_per_record.index.names,\n",
    ").join(votes_per_party_per_record[\"Party: Majority Vote\"]).reset_index().set_index(\n",
    "    sitting_vote_participants.index.names,\n",
    ").reset_index().groupby([\n",
    "    \"Parliament\", \"Session\", \"Party\", \"Parliamentarian\",\n",
    "]).agg({\n",
    "    \"Party: Majority Vote\": \"mean\",\n",
    "}).rename(columns={\"Party: Majority Vote\": \"Adherence\"})\n",
    "\n",
    "# Show parliamentarians that vote against their party lines\n",
    "display(select_by_index(party_adherence[party_adherence[\"Adherence\"] < 0.97], {\"Parliament\": [42]}))\n",
    "\n",
    "# Show parliamentarians that 100% adhere to their party lines\n",
    "display(select_by_index(party_adherence[party_adherence[\"Adherence\"] == 1], {\"Parliament\": [42]}))\n",
    "\n",
    "# TODO: Using voting records from previous parliaments,\n",
    "#       determine how likely a parliamentarian is to be relected\n",
    "#       based on their adherence to party lines in the preceding parliament"
   ]
  },
  {
   "cell_type": "code",
   "execution_count": null,
   "metadata": {
    "scrolled": false
   },
   "outputs": [],
   "source": [
    "def get_mp_similarity(df, parliament):\n",
    "    top5 = df.reset_index()\n",
    "    top5 = top5[top5[\"Parliament\"] == parliament]\n",
    "\n",
    "    per_party_per_vote = top5[top5[\"Party\"].isin((\"Lib\", \"C\", \"N.D.P.\", \"B.Q.\"))].groupby(\n",
    "        [\"Parliament\", \"Session\", \"Sitting\", \"Vote\", \"Parliamentarian: Vote\", \"Party\"],\n",
    "    )[\"Parliamentarian: Vote\"].count().to_frame().rename(columns={\"Parliamentarian: Vote\": \"Count\"})\n",
    "    per_party_per_vote = per_party_per_vote.unstack(fill_value=0)\n",
    "    \n",
    "    per_party = top5.reset_index().groupby(\n",
    "        [\"Parliament\", \"Session\", \"Sitting\", \"Vote\", \"Party\"],\n",
    "    )[\"Party\"].count().to_frame().rename(columns={\"Party\": \"Total\"}).unstack().fillna(100000)\n",
    "\n",
    "    df3 = per_party_per_vote.unstack(fill_value=0).stack().reset_index()\n",
    "    df1 = per_party.reset_index()\n",
    "    df2 = df1\n",
    "    while len(df2) < len(df3):\n",
    "        df2 = df2.append(df1)\n",
    "    df2 = df2.sort_values(\n",
    "        [\"Parliament\", \"Session\", \"Sitting\", \"Vote\"],\n",
    "    )\n",
    "    df2.index = range(len(df2))\n",
    "\n",
    "    assert len(df3) == len(df2)\n",
    "    ratio = (df3[\"Count\"] / df2[\"Total\"]).fillna(0)\n",
    "    ratio.columns = pd.MultiIndex.from_product([['Ratio'], ratio.columns])\n",
    "\n",
    "    df3[ratio.columns] = ratio\n",
    "    del df3[\"Count\"]\n",
    "    vote_ratios = df3\n",
    "\n",
    "    import warnings\n",
    "    warnings.simplefilter(action='ignore', category=UserWarning)\n",
    "    warnings.simplefilter(action='ignore', category=pd.io.pytables.PerformanceWarning)\n",
    "\n",
    "    df1 = top5.reset_index()\n",
    "    dfs = []\n",
    "    for row in list(df1.groupby([\"Parliamentarian\"]).agg({\n",
    "        \"Parliamentarian\": \"first\",\n",
    "    }).iterrows()):\n",
    "        parliamentarian = row[0]\n",
    "        dfp = df1[df1[\"Parliamentarian\"] == parliamentarian]\n",
    "        dfp = pd.merge(dfp, vote_ratios, on=[\"Parliament\", \"Session\", \"Sitting\", \"Vote\", \"Parliamentarian: Vote\"], how='inner')\n",
    "        del dfp[\"Parliamentarian: Vote\"]\n",
    "        dfg = dfp.groupby([\"Parliament\", \"Session\", \"Parliamentarian\", \"Party\"]).agg({\n",
    "            (\"Ratio\", \"B.Q.\"): \"mean\",\n",
    "            (\"Ratio\", \"C\"): \"mean\",\n",
    "            #(\"Ratio\", \"G.P.\"): \"mean\",\n",
    "            (\"Ratio\", \"Lib\"): \"mean\",\n",
    "            (\"Ratio\", \"N.D.P.\"): \"mean\",\n",
    "        }).reset_index().set_index([\"Parliament\", \"Session\"])\n",
    "        dfs.append(dfg)\n",
    "\n",
    "    mp_party_similarity = pd.concat(dfs, ignore_index=True)\n",
    "    return mp_party_similarity\n",
    "\n",
    "mp_party_similarity = get_mp_similarity(sitting_vote_participants, 42)\n",
    "spoke_labels = mp_party_similarity.columns.levels[1].values[0:4]\n",
    "theta = radar_factory(len(spoke_labels))\n",
    "\n",
    "fig = plt.figure(figsize=(20,20))\n",
    "# adjust spacing around the subplots\n",
    "fig.subplots_adjust(wspace=0.25, hspace=0.20, top=0.85, bottom=0.05)\n",
    "title_list = ['Party Similarity']\n",
    "\n",
    "rows = []\n",
    "colors = []\n",
    "for index, row in mp_party_similarity.iterrows():\n",
    "    name, party, *values = row\n",
    "    try:\n",
    "        color = select_by_index(parties, {\"Election\": [42], \"Party\": party})[\"Color\"][0]\n",
    "    except:\n",
    "        color = \"#666666\"\n",
    "    colors.append(color)\n",
    "    rows.append(values)\n",
    "\n",
    "data = {'Party Similarity': rows}\n",
    "# chemicals range from 0 to 1\n",
    "radial_grid = [2., 4., 6., 8.]\n",
    "# If you don't care about the order, you can loop over data_dict.items()\n",
    "for n, title in enumerate(title_list):\n",
    "    ax = fig.add_subplot(2, 2, n + 1, projection='radar')\n",
    "    plt.rgrids(radial_grid)\n",
    "    ax.set_title(title, weight='bold', size='medium', position=(0.5, 1.1),\n",
    "                 horizontalalignment='center', verticalalignment='center')\n",
    "    for d, color in zip(data[title], colors):\n",
    "        ax.plot(theta, d, color=color)\n",
    "    ax.set_varlabels(spoke_labels)\n",
    "plt.show()"
   ]
  },
  {
   "cell_type": "code",
   "execution_count": null,
   "metadata": {},
   "outputs": [],
   "source": [
    "sitting_vote_participants = get_dataframe(models.SittingVoteParticipant.objects.all(), {\n",
    "    \"sitting_vote__sitting__session__parliament__number\": \"Parliament\",\n",
    "    \"sitting_vote__sitting__session__number\": \"Session\",\n",
    "    \"sitting_vote__sitting__number\": \"Sitting\",\n",
    "    \"sitting_vote__number\": \"Vote\",\n",
    "    \"party__name\": \"Party\",\n",
    "    \"parliamentarian__name\": \"Parliamentarian\",\n",
    "    \"recorded_vote\": \"Parliamentarian: Vote\",\n",
    "}, [\"Parliament\", \"Session\", \"Sitting\", \"Vote\", \"Party\", \"Parliamentarian\"])\n",
    "sitting_vote_participants = sitting_vote_participants.reset_index().fillna(\"Independent\").set_index(sitting_vote_participants.index.names)\n",
    "display(sitting_vote_participants.head(5))"
   ]
  },
  {
   "cell_type": "markdown",
   "metadata": {},
   "source": [
    "## MPs most like and least like other parties"
   ]
  },
  {
   "cell_type": "code",
   "execution_count": null,
   "metadata": {
    "scrolled": false
   },
   "outputs": [],
   "source": [
    "df = mp_party_similarity.reset_index()\n",
    "for source in mp_party_similarity.columns.levels[1].values[0:5]:\n",
    "    if source == \"G.P.\":\n",
    "        continue\n",
    "    for target in mp_party_similarity.columns.levels[1].values[0:5]:\n",
    "        display(HTML(\"\"\"<h3>{} MPs</h3>\"\"\".format(source)))\n",
    "        display(HTML(\"\"\"<h4>Most like {}</h4>\"\"\".format(target)))\n",
    "        display(df[df[\"Party\"] == source].sort_values((\"Ratio\", target), ascending=False).head(5))\n",
    "        display(HTML(\"\"\"<h4>Least like {}</h4>\"\"\".format(target)))\n",
    "        display(df[df[\"Party\"] == source].sort_values((\"Ratio\", target)).head(5))"
   ]
  }
 ],
 "metadata": {
  "kernelspec": {
   "display_name": "Django Shell-Plus",
   "language": "python",
   "name": "django_extensions"
  },
  "language_info": {
   "codemirror_mode": {
    "name": "ipython",
    "version": 3
   },
   "file_extension": ".py",
   "mimetype": "text/x-python",
   "name": "python",
   "nbconvert_exporter": "python",
   "pygments_lexer": "ipython3",
   "version": "3.6.1"
  }
 },
 "nbformat": 4,
 "nbformat_minor": 2
}
